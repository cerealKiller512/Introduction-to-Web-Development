{
  "nbformat": 4,
  "nbformat_minor": 0,
  "metadata": {
    "colab": {
      "name": "Untitled0.ipynb",
      "provenance": [],
      "collapsed_sections": [],
      "authorship_tag": "ABX9TyOCqL86CMNiB1JwohtZpx8d",
      "include_colab_link": true
    },
    "kernelspec": {
      "name": "python3",
      "display_name": "Python 3"
    }
  },
  "cells": [
    {
      "cell_type": "markdown",
      "metadata": {
        "id": "view-in-github",
        "colab_type": "text"
      },
      "source": [
        "<a href=\"https://colab.research.google.com/github/cerealKiller512/Introduction-to-Web-Development/blob/master/neural_networks.ipynb\" target=\"_parent\"><img src=\"https://colab.research.google.com/assets/colab-badge.svg\" alt=\"Open In Colab\"/></a>"
      ]
    },
    {
      "cell_type": "code",
      "metadata": {
        "colab": {
          "base_uri": "https://localhost:8080/",
          "height": 132
        },
        "id": "WDe5TAgsrSlu",
        "outputId": "6552db48-b2f4-4306-fec4-33ce6aaa8124"
      },
      "source": [
        "import numpy as np\r\n",
        "\r\n",
        "[ ] vector_row = np.array([1,2,3]) #horizontal vector\r\n",
        "vector_column = np.array([1], [2], [3]) #vertical vector\r\n",
        "print(vector_row)\r\n",
        "print(vector_column)\r\n",
        "\r\n",
        "[ ] matrix = np.array([1,2,3],[4,5,6])\r\n",
        "print(matrix)\r\n",
        "\r\n",
        "[ ] #values from 0 to 30\r\n",
        "range_with_fixed_interval = np.arrange(0,30,2)\r\n",
        "print(f\"Vektor mit arrange:\\n{range_with_fixed_interval}\\n\")\r\n",
        "\r\n",
        "equally_spaced_range = np.linspace(0,4,9)\r\n",
        "print(f\"Vektor mit linspace:\\n{equally_spaced_range}\\n\")\r\n",
        "\r\n",
        "[ ] matrix_id = np.eye(3) #3x3 identity matrix\r\n",
        "matrix_ones = np.ones((3,2)) # matrix of 1\r\n",
        "matrix_zeros = np.zeros((3,2)) #matrix of zero\r\n",
        "print(f\"Identitätsmatrix:\\n{matrix_id}\\n\")\r\n",
        "print(f\"Einermatrix:\\n{matrix_ones}\\n\")\r\n",
        "print(f\"Nullermatrix:\\n{matrix_zeros}\\n\")\r\n",
        "\r\n",
        "[ ] vector = np.array([1,2,3])\r\n",
        "matrix = np.array([1,2,3], [4,5,6])\r\n",
        "print(f\"Vektor:{vector}\")\r\n",
        "print(f\"Matrix:{matrix}\")\r\n",
        "\r\n",
        "#the third element of the vector\r\n",
        "print(f\"\\nDas 3. Element des Vektors: {vector[2]}\")\r\n",
        "\r\n",
        "#the second element in the second line of the matrix\r\n",
        "print(f\"\\nDas 2. Element in der 2. Zeile der Matrix{matrix[1,1]}\")\r\n",
        "\r\n",
        "#all elements inclusive the second element\r\n",
        "print(f\"\\nAlle Elemente bis und inklusive dem 2. Element des Vektors: {vector[:2]}\")\r\n",
        "\r\n",
        "#all from the third element\r\n",
        "print(f\"\\nAlle Elemente ab dem 3. Element des Vektors: {vector[3:]}\")\r\n",
        "\r\n",
        "#all elements of the vector\r\n",
        "print(f\"\\nAlle Elemente des Vektors: {vector[:]}\")\r\n",
        "\r\n",
        "#the last element \r\n",
        "print(f\"\\nDas letzte Element des Vektors:{vector[-1]}\")\r\n",
        "\r\n",
        "[ ] matrix = np.array([1,2,3], [4,5,6]])\r\n",
        "print(f\"Matrix:\\n{matrix}\")\r\n",
        "\r\n",
        "#counts rows and columns\r\n",
        "print(f\"\\nFotm der Matrix(Anzahl von Reihen und Spalten):{matrix.shape}\")\r\n",
        "\r\n",
        "#counts elements(rows * columns)\r\n",
        "print(f\"\\nAnzahl der Elemente (Reihen * Spalten):{matrix.size}\")\r\n",
        "\r\n",
        "#counts dimensions\r\n",
        "print(f\"\\nDimension der Matrix:{matrix.ndim}\")\r\n",
        "\r\n",
        "[ ] matrix = np.array([1,2,3,4],[5,6,7,8],[9,10,11,12])\r\n",
        "print(f\"Matrix:\\n{matrix}\")\r\n",
        "\r\n",
        "print(f\"\\nReshaped (12x1):\\n{matrix.reshape(12,1)}\")\r\n",
        "\r\n",
        "print(f\"\\nReshaped(1x12):\\n{matrix.reshape(1,12)}\")\r\n",
        "\r\n",
        "print(f\"\\nReshaped(2x6):\\n{matrix.reshape(2,6)}\")\r\n",
        "\r\n",
        "print(f\"n\\Reshaped (1 Zeiel mit so vielen Spalten wie nötig (-1):\\n{matrix.reshape(1,-1)}\")\r\n",
        "\r\n",
        "print(f\"\\nFlattened (Umwandlung in ein unverschachteltes 1D Array):\\n{matrix.flatten()}\")\r\n",
        "\r\n",
        "print(f\"n\\Transponiert (spiegelung an der Diagonalen):\\n{matrix.T}\")\r\n",
        "\r\n",
        "\r\n",
        "\r\n",
        "\r\n"
      ],
      "execution_count": 6,
      "outputs": [
        {
          "output_type": "error",
          "ename": "SyntaxError",
          "evalue": "ignored",
          "traceback": [
            "\u001b[0;36m  File \u001b[0;32m\"<ipython-input-6-9a647421be25>\"\u001b[0;36m, line \u001b[0;32m3\u001b[0m\n\u001b[0;31m    [ ] vector_row = np.array([1,2,3]) #horizontal vector\u001b[0m\n\u001b[0m                 ^\u001b[0m\n\u001b[0;31mSyntaxError\u001b[0m\u001b[0;31m:\u001b[0m invalid syntax\n"
          ]
        }
      ]
    }
  ]
}